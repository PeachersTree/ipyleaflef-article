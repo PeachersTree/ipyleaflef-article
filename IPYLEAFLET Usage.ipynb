{
 "cells": [
  {
   "cell_type": "code",
   "execution_count": 1,
   "metadata": {},
   "outputs": [
    {
     "name": "stdout",
     "output_type": "stream",
     "text": [
      "Collecting ipyleaflet\n",
      "  Downloading ipyleaflet-0.19.2-py3-none-any.whl.metadata (5.3 kB)\n",
      "Requirement already satisfied: branca>=0.5.0 in /opt/anaconda3/lib/python3.12/site-packages (from ipyleaflet) (0.8.0)\n",
      "Requirement already satisfied: ipywidgets<9,>=7.6.0 in /opt/anaconda3/lib/python3.12/site-packages (from ipyleaflet) (7.8.1)\n",
      "Collecting jupyter-leaflet<0.20,>=0.19 (from ipyleaflet)\n",
      "  Downloading jupyter_leaflet-0.19.2-py3-none-any.whl.metadata (2.4 kB)\n",
      "Collecting traittypes<3,>=0.2.1 (from ipyleaflet)\n",
      "  Downloading traittypes-0.2.1-py2.py3-none-any.whl.metadata (1.0 kB)\n",
      "Requirement already satisfied: xyzservices>=2021.8.1 in /opt/anaconda3/lib/python3.12/site-packages (from ipyleaflet) (2022.9.0)\n",
      "Requirement already satisfied: jinja2>=3 in /opt/anaconda3/lib/python3.12/site-packages (from branca>=0.5.0->ipyleaflet) (3.1.4)\n",
      "Requirement already satisfied: comm>=0.1.3 in /opt/anaconda3/lib/python3.12/site-packages (from ipywidgets<9,>=7.6.0->ipyleaflet) (0.2.1)\n",
      "Requirement already satisfied: ipython-genutils~=0.2.0 in /opt/anaconda3/lib/python3.12/site-packages (from ipywidgets<9,>=7.6.0->ipyleaflet) (0.2.0)\n",
      "Requirement already satisfied: traitlets>=4.3.1 in /opt/anaconda3/lib/python3.12/site-packages (from ipywidgets<9,>=7.6.0->ipyleaflet) (5.14.3)\n",
      "Requirement already satisfied: widgetsnbextension~=3.6.6 in /opt/anaconda3/lib/python3.12/site-packages (from ipywidgets<9,>=7.6.0->ipyleaflet) (3.6.6)\n",
      "Requirement already satisfied: ipython>=4.0.0 in /opt/anaconda3/lib/python3.12/site-packages (from ipywidgets<9,>=7.6.0->ipyleaflet) (8.25.0)\n",
      "Requirement already satisfied: jupyterlab-widgets<3,>=1.0.0 in /opt/anaconda3/lib/python3.12/site-packages (from ipywidgets<9,>=7.6.0->ipyleaflet) (1.0.0)\n",
      "Requirement already satisfied: decorator in /opt/anaconda3/lib/python3.12/site-packages (from ipython>=4.0.0->ipywidgets<9,>=7.6.0->ipyleaflet) (5.1.1)\n",
      "Requirement already satisfied: jedi>=0.16 in /opt/anaconda3/lib/python3.12/site-packages (from ipython>=4.0.0->ipywidgets<9,>=7.6.0->ipyleaflet) (0.18.1)\n",
      "Requirement already satisfied: matplotlib-inline in /opt/anaconda3/lib/python3.12/site-packages (from ipython>=4.0.0->ipywidgets<9,>=7.6.0->ipyleaflet) (0.1.6)\n",
      "Requirement already satisfied: prompt-toolkit<3.1.0,>=3.0.41 in /opt/anaconda3/lib/python3.12/site-packages (from ipython>=4.0.0->ipywidgets<9,>=7.6.0->ipyleaflet) (3.0.43)\n",
      "Requirement already satisfied: pygments>=2.4.0 in /opt/anaconda3/lib/python3.12/site-packages (from ipython>=4.0.0->ipywidgets<9,>=7.6.0->ipyleaflet) (2.15.1)\n",
      "Requirement already satisfied: stack-data in /opt/anaconda3/lib/python3.12/site-packages (from ipython>=4.0.0->ipywidgets<9,>=7.6.0->ipyleaflet) (0.2.0)\n",
      "Requirement already satisfied: pexpect>4.3 in /opt/anaconda3/lib/python3.12/site-packages (from ipython>=4.0.0->ipywidgets<9,>=7.6.0->ipyleaflet) (4.8.0)\n",
      "Requirement already satisfied: MarkupSafe>=2.0 in /opt/anaconda3/lib/python3.12/site-packages (from jinja2>=3->branca>=0.5.0->ipyleaflet) (2.1.3)\n",
      "Requirement already satisfied: notebook>=4.4.1 in /opt/anaconda3/lib/python3.12/site-packages (from widgetsnbextension~=3.6.6->ipywidgets<9,>=7.6.0->ipyleaflet) (7.0.8)\n",
      "Requirement already satisfied: parso<0.9.0,>=0.8.0 in /opt/anaconda3/lib/python3.12/site-packages (from jedi>=0.16->ipython>=4.0.0->ipywidgets<9,>=7.6.0->ipyleaflet) (0.8.3)\n",
      "Requirement already satisfied: jupyter-server<3,>=2.4.0 in /opt/anaconda3/lib/python3.12/site-packages (from notebook>=4.4.1->widgetsnbextension~=3.6.6->ipywidgets<9,>=7.6.0->ipyleaflet) (2.14.1)\n",
      "Requirement already satisfied: jupyterlab-server<3,>=2.22.1 in /opt/anaconda3/lib/python3.12/site-packages (from notebook>=4.4.1->widgetsnbextension~=3.6.6->ipywidgets<9,>=7.6.0->ipyleaflet) (2.25.1)\n",
      "Requirement already satisfied: jupyterlab<4.1,>=4.0.2 in /opt/anaconda3/lib/python3.12/site-packages (from notebook>=4.4.1->widgetsnbextension~=3.6.6->ipywidgets<9,>=7.6.0->ipyleaflet) (4.0.11)\n",
      "Requirement already satisfied: notebook-shim<0.3,>=0.2 in /opt/anaconda3/lib/python3.12/site-packages (from notebook>=4.4.1->widgetsnbextension~=3.6.6->ipywidgets<9,>=7.6.0->ipyleaflet) (0.2.3)\n",
      "Requirement already satisfied: tornado>=6.2.0 in /opt/anaconda3/lib/python3.12/site-packages (from notebook>=4.4.1->widgetsnbextension~=3.6.6->ipywidgets<9,>=7.6.0->ipyleaflet) (6.4.1)\n",
      "Requirement already satisfied: ptyprocess>=0.5 in /opt/anaconda3/lib/python3.12/site-packages (from pexpect>4.3->ipython>=4.0.0->ipywidgets<9,>=7.6.0->ipyleaflet) (0.7.0)\n",
      "Requirement already satisfied: wcwidth in /opt/anaconda3/lib/python3.12/site-packages (from prompt-toolkit<3.1.0,>=3.0.41->ipython>=4.0.0->ipywidgets<9,>=7.6.0->ipyleaflet) (0.2.5)\n",
      "Requirement already satisfied: executing in /opt/anaconda3/lib/python3.12/site-packages (from stack-data->ipython>=4.0.0->ipywidgets<9,>=7.6.0->ipyleaflet) (0.8.3)\n",
      "Requirement already satisfied: asttokens in /opt/anaconda3/lib/python3.12/site-packages (from stack-data->ipython>=4.0.0->ipywidgets<9,>=7.6.0->ipyleaflet) (2.0.5)\n",
      "Requirement already satisfied: pure-eval in /opt/anaconda3/lib/python3.12/site-packages (from stack-data->ipython>=4.0.0->ipywidgets<9,>=7.6.0->ipyleaflet) (0.2.2)\n",
      "Requirement already satisfied: anyio>=3.1.0 in /opt/anaconda3/lib/python3.12/site-packages (from jupyter-server<3,>=2.4.0->notebook>=4.4.1->widgetsnbextension~=3.6.6->ipywidgets<9,>=7.6.0->ipyleaflet) (4.2.0)\n",
      "Requirement already satisfied: argon2-cffi>=21.1 in /opt/anaconda3/lib/python3.12/site-packages (from jupyter-server<3,>=2.4.0->notebook>=4.4.1->widgetsnbextension~=3.6.6->ipywidgets<9,>=7.6.0->ipyleaflet) (21.3.0)\n",
      "Requirement already satisfied: jupyter-client>=7.4.4 in /opt/anaconda3/lib/python3.12/site-packages (from jupyter-server<3,>=2.4.0->notebook>=4.4.1->widgetsnbextension~=3.6.6->ipywidgets<9,>=7.6.0->ipyleaflet) (8.6.0)\n",
      "Requirement already satisfied: jupyter-core!=5.0.*,>=4.12 in /opt/anaconda3/lib/python3.12/site-packages (from jupyter-server<3,>=2.4.0->notebook>=4.4.1->widgetsnbextension~=3.6.6->ipywidgets<9,>=7.6.0->ipyleaflet) (5.7.2)\n",
      "Requirement already satisfied: jupyter-events>=0.9.0 in /opt/anaconda3/lib/python3.12/site-packages (from jupyter-server<3,>=2.4.0->notebook>=4.4.1->widgetsnbextension~=3.6.6->ipywidgets<9,>=7.6.0->ipyleaflet) (0.10.0)\n",
      "Requirement already satisfied: jupyter-server-terminals>=0.4.4 in /opt/anaconda3/lib/python3.12/site-packages (from jupyter-server<3,>=2.4.0->notebook>=4.4.1->widgetsnbextension~=3.6.6->ipywidgets<9,>=7.6.0->ipyleaflet) (0.4.4)\n",
      "Requirement already satisfied: nbconvert>=6.4.4 in /opt/anaconda3/lib/python3.12/site-packages (from jupyter-server<3,>=2.4.0->notebook>=4.4.1->widgetsnbextension~=3.6.6->ipywidgets<9,>=7.6.0->ipyleaflet) (7.10.0)\n",
      "Requirement already satisfied: nbformat>=5.3.0 in /opt/anaconda3/lib/python3.12/site-packages (from jupyter-server<3,>=2.4.0->notebook>=4.4.1->widgetsnbextension~=3.6.6->ipywidgets<9,>=7.6.0->ipyleaflet) (5.9.2)\n",
      "Requirement already satisfied: overrides>=5.0 in /opt/anaconda3/lib/python3.12/site-packages (from jupyter-server<3,>=2.4.0->notebook>=4.4.1->widgetsnbextension~=3.6.6->ipywidgets<9,>=7.6.0->ipyleaflet) (7.4.0)\n",
      "Requirement already satisfied: packaging>=22.0 in /opt/anaconda3/lib/python3.12/site-packages (from jupyter-server<3,>=2.4.0->notebook>=4.4.1->widgetsnbextension~=3.6.6->ipywidgets<9,>=7.6.0->ipyleaflet) (23.2)\n",
      "Requirement already satisfied: prometheus-client>=0.9 in /opt/anaconda3/lib/python3.12/site-packages (from jupyter-server<3,>=2.4.0->notebook>=4.4.1->widgetsnbextension~=3.6.6->ipywidgets<9,>=7.6.0->ipyleaflet) (0.14.1)\n",
      "Requirement already satisfied: pyzmq>=24 in /opt/anaconda3/lib/python3.12/site-packages (from jupyter-server<3,>=2.4.0->notebook>=4.4.1->widgetsnbextension~=3.6.6->ipywidgets<9,>=7.6.0->ipyleaflet) (25.1.2)\n",
      "Requirement already satisfied: send2trash>=1.8.2 in /opt/anaconda3/lib/python3.12/site-packages (from jupyter-server<3,>=2.4.0->notebook>=4.4.1->widgetsnbextension~=3.6.6->ipywidgets<9,>=7.6.0->ipyleaflet) (1.8.2)\n",
      "Requirement already satisfied: terminado>=0.8.3 in /opt/anaconda3/lib/python3.12/site-packages (from jupyter-server<3,>=2.4.0->notebook>=4.4.1->widgetsnbextension~=3.6.6->ipywidgets<9,>=7.6.0->ipyleaflet) (0.17.1)\n",
      "Requirement already satisfied: websocket-client>=1.7 in /opt/anaconda3/lib/python3.12/site-packages (from jupyter-server<3,>=2.4.0->notebook>=4.4.1->widgetsnbextension~=3.6.6->ipywidgets<9,>=7.6.0->ipyleaflet) (1.8.0)\n",
      "Requirement already satisfied: async-lru>=1.0.0 in /opt/anaconda3/lib/python3.12/site-packages (from jupyterlab<4.1,>=4.0.2->notebook>=4.4.1->widgetsnbextension~=3.6.6->ipywidgets<9,>=7.6.0->ipyleaflet) (2.0.4)\n",
      "Requirement already satisfied: ipykernel in /opt/anaconda3/lib/python3.12/site-packages (from jupyterlab<4.1,>=4.0.2->notebook>=4.4.1->widgetsnbextension~=3.6.6->ipywidgets<9,>=7.6.0->ipyleaflet) (6.28.0)\n",
      "Requirement already satisfied: jupyter-lsp>=2.0.0 in /opt/anaconda3/lib/python3.12/site-packages (from jupyterlab<4.1,>=4.0.2->notebook>=4.4.1->widgetsnbextension~=3.6.6->ipywidgets<9,>=7.6.0->ipyleaflet) (2.2.0)\n",
      "Requirement already satisfied: babel>=2.10 in /opt/anaconda3/lib/python3.12/site-packages (from jupyterlab-server<3,>=2.22.1->notebook>=4.4.1->widgetsnbextension~=3.6.6->ipywidgets<9,>=7.6.0->ipyleaflet) (2.11.0)\n",
      "Requirement already satisfied: json5>=0.9.0 in /opt/anaconda3/lib/python3.12/site-packages (from jupyterlab-server<3,>=2.22.1->notebook>=4.4.1->widgetsnbextension~=3.6.6->ipywidgets<9,>=7.6.0->ipyleaflet) (0.9.6)\n",
      "Requirement already satisfied: jsonschema>=4.18.0 in /opt/anaconda3/lib/python3.12/site-packages (from jupyterlab-server<3,>=2.22.1->notebook>=4.4.1->widgetsnbextension~=3.6.6->ipywidgets<9,>=7.6.0->ipyleaflet) (4.19.2)\n",
      "Requirement already satisfied: requests>=2.31 in /opt/anaconda3/lib/python3.12/site-packages (from jupyterlab-server<3,>=2.22.1->notebook>=4.4.1->widgetsnbextension~=3.6.6->ipywidgets<9,>=7.6.0->ipyleaflet) (2.32.2)\n",
      "Requirement already satisfied: six in /opt/anaconda3/lib/python3.12/site-packages (from asttokens->stack-data->ipython>=4.0.0->ipywidgets<9,>=7.6.0->ipyleaflet) (1.16.0)\n",
      "Requirement already satisfied: idna>=2.8 in /opt/anaconda3/lib/python3.12/site-packages (from anyio>=3.1.0->jupyter-server<3,>=2.4.0->notebook>=4.4.1->widgetsnbextension~=3.6.6->ipywidgets<9,>=7.6.0->ipyleaflet) (3.7)\n",
      "Requirement already satisfied: sniffio>=1.1 in /opt/anaconda3/lib/python3.12/site-packages (from anyio>=3.1.0->jupyter-server<3,>=2.4.0->notebook>=4.4.1->widgetsnbextension~=3.6.6->ipywidgets<9,>=7.6.0->ipyleaflet) (1.3.0)\n",
      "Requirement already satisfied: argon2-cffi-bindings in /opt/anaconda3/lib/python3.12/site-packages (from argon2-cffi>=21.1->jupyter-server<3,>=2.4.0->notebook>=4.4.1->widgetsnbextension~=3.6.6->ipywidgets<9,>=7.6.0->ipyleaflet) (21.2.0)\n",
      "Requirement already satisfied: pytz>=2015.7 in /opt/anaconda3/lib/python3.12/site-packages (from babel>=2.10->jupyterlab-server<3,>=2.22.1->notebook>=4.4.1->widgetsnbextension~=3.6.6->ipywidgets<9,>=7.6.0->ipyleaflet) (2024.1)\n",
      "Requirement already satisfied: attrs>=22.2.0 in /opt/anaconda3/lib/python3.12/site-packages (from jsonschema>=4.18.0->jupyterlab-server<3,>=2.22.1->notebook>=4.4.1->widgetsnbextension~=3.6.6->ipywidgets<9,>=7.6.0->ipyleaflet) (23.1.0)\n",
      "Requirement already satisfied: jsonschema-specifications>=2023.03.6 in /opt/anaconda3/lib/python3.12/site-packages (from jsonschema>=4.18.0->jupyterlab-server<3,>=2.22.1->notebook>=4.4.1->widgetsnbextension~=3.6.6->ipywidgets<9,>=7.6.0->ipyleaflet) (2023.7.1)\n",
      "Requirement already satisfied: referencing>=0.28.4 in /opt/anaconda3/lib/python3.12/site-packages (from jsonschema>=4.18.0->jupyterlab-server<3,>=2.22.1->notebook>=4.4.1->widgetsnbextension~=3.6.6->ipywidgets<9,>=7.6.0->ipyleaflet) (0.30.2)\n",
      "Requirement already satisfied: rpds-py>=0.7.1 in /opt/anaconda3/lib/python3.12/site-packages (from jsonschema>=4.18.0->jupyterlab-server<3,>=2.22.1->notebook>=4.4.1->widgetsnbextension~=3.6.6->ipywidgets<9,>=7.6.0->ipyleaflet) (0.10.6)\n",
      "Requirement already satisfied: python-dateutil>=2.8.2 in /opt/anaconda3/lib/python3.12/site-packages (from jupyter-client>=7.4.4->jupyter-server<3,>=2.4.0->notebook>=4.4.1->widgetsnbextension~=3.6.6->ipywidgets<9,>=7.6.0->ipyleaflet) (2.9.0.post0)\n",
      "Requirement already satisfied: platformdirs>=2.5 in /opt/anaconda3/lib/python3.12/site-packages (from jupyter-core!=5.0.*,>=4.12->jupyter-server<3,>=2.4.0->notebook>=4.4.1->widgetsnbextension~=3.6.6->ipywidgets<9,>=7.6.0->ipyleaflet) (3.10.0)\n",
      "Requirement already satisfied: python-json-logger>=2.0.4 in /opt/anaconda3/lib/python3.12/site-packages (from jupyter-events>=0.9.0->jupyter-server<3,>=2.4.0->notebook>=4.4.1->widgetsnbextension~=3.6.6->ipywidgets<9,>=7.6.0->ipyleaflet) (2.0.7)\n",
      "Requirement already satisfied: pyyaml>=5.3 in /opt/anaconda3/lib/python3.12/site-packages (from jupyter-events>=0.9.0->jupyter-server<3,>=2.4.0->notebook>=4.4.1->widgetsnbextension~=3.6.6->ipywidgets<9,>=7.6.0->ipyleaflet) (6.0.1)\n",
      "Requirement already satisfied: rfc3339-validator in /opt/anaconda3/lib/python3.12/site-packages (from jupyter-events>=0.9.0->jupyter-server<3,>=2.4.0->notebook>=4.4.1->widgetsnbextension~=3.6.6->ipywidgets<9,>=7.6.0->ipyleaflet) (0.1.4)\n",
      "Requirement already satisfied: rfc3986-validator>=0.1.1 in /opt/anaconda3/lib/python3.12/site-packages (from jupyter-events>=0.9.0->jupyter-server<3,>=2.4.0->notebook>=4.4.1->widgetsnbextension~=3.6.6->ipywidgets<9,>=7.6.0->ipyleaflet) (0.1.1)\n",
      "Requirement already satisfied: beautifulsoup4 in /opt/anaconda3/lib/python3.12/site-packages (from nbconvert>=6.4.4->jupyter-server<3,>=2.4.0->notebook>=4.4.1->widgetsnbextension~=3.6.6->ipywidgets<9,>=7.6.0->ipyleaflet) (4.12.3)\n",
      "Requirement already satisfied: bleach!=5.0.0 in /opt/anaconda3/lib/python3.12/site-packages (from nbconvert>=6.4.4->jupyter-server<3,>=2.4.0->notebook>=4.4.1->widgetsnbextension~=3.6.6->ipywidgets<9,>=7.6.0->ipyleaflet) (4.1.0)\n",
      "Requirement already satisfied: defusedxml in /opt/anaconda3/lib/python3.12/site-packages (from nbconvert>=6.4.4->jupyter-server<3,>=2.4.0->notebook>=4.4.1->widgetsnbextension~=3.6.6->ipywidgets<9,>=7.6.0->ipyleaflet) (0.7.1)\n",
      "Requirement already satisfied: jupyterlab-pygments in /opt/anaconda3/lib/python3.12/site-packages (from nbconvert>=6.4.4->jupyter-server<3,>=2.4.0->notebook>=4.4.1->widgetsnbextension~=3.6.6->ipywidgets<9,>=7.6.0->ipyleaflet) (0.1.2)\n",
      "Requirement already satisfied: mistune<4,>=2.0.3 in /opt/anaconda3/lib/python3.12/site-packages (from nbconvert>=6.4.4->jupyter-server<3,>=2.4.0->notebook>=4.4.1->widgetsnbextension~=3.6.6->ipywidgets<9,>=7.6.0->ipyleaflet) (2.0.4)\n",
      "Requirement already satisfied: nbclient>=0.5.0 in /opt/anaconda3/lib/python3.12/site-packages (from nbconvert>=6.4.4->jupyter-server<3,>=2.4.0->notebook>=4.4.1->widgetsnbextension~=3.6.6->ipywidgets<9,>=7.6.0->ipyleaflet) (0.8.0)\n",
      "Requirement already satisfied: pandocfilters>=1.4.1 in /opt/anaconda3/lib/python3.12/site-packages (from nbconvert>=6.4.4->jupyter-server<3,>=2.4.0->notebook>=4.4.1->widgetsnbextension~=3.6.6->ipywidgets<9,>=7.6.0->ipyleaflet) (1.5.0)\n",
      "Requirement already satisfied: tinycss2 in /opt/anaconda3/lib/python3.12/site-packages (from nbconvert>=6.4.4->jupyter-server<3,>=2.4.0->notebook>=4.4.1->widgetsnbextension~=3.6.6->ipywidgets<9,>=7.6.0->ipyleaflet) (1.2.1)\n",
      "Requirement already satisfied: fastjsonschema in /opt/anaconda3/lib/python3.12/site-packages (from nbformat>=5.3.0->jupyter-server<3,>=2.4.0->notebook>=4.4.1->widgetsnbextension~=3.6.6->ipywidgets<9,>=7.6.0->ipyleaflet) (2.16.2)\n",
      "Requirement already satisfied: charset-normalizer<4,>=2 in /opt/anaconda3/lib/python3.12/site-packages (from requests>=2.31->jupyterlab-server<3,>=2.22.1->notebook>=4.4.1->widgetsnbextension~=3.6.6->ipywidgets<9,>=7.6.0->ipyleaflet) (2.0.4)\n",
      "Requirement already satisfied: urllib3<3,>=1.21.1 in /opt/anaconda3/lib/python3.12/site-packages (from requests>=2.31->jupyterlab-server<3,>=2.22.1->notebook>=4.4.1->widgetsnbextension~=3.6.6->ipywidgets<9,>=7.6.0->ipyleaflet) (2.2.2)\n",
      "Requirement already satisfied: certifi>=2017.4.17 in /opt/anaconda3/lib/python3.12/site-packages (from requests>=2.31->jupyterlab-server<3,>=2.22.1->notebook>=4.4.1->widgetsnbextension~=3.6.6->ipywidgets<9,>=7.6.0->ipyleaflet) (2024.8.30)\n",
      "Requirement already satisfied: appnope in /opt/anaconda3/lib/python3.12/site-packages (from ipykernel->jupyterlab<4.1,>=4.0.2->notebook>=4.4.1->widgetsnbextension~=3.6.6->ipywidgets<9,>=7.6.0->ipyleaflet) (0.1.3)\n",
      "Requirement already satisfied: debugpy>=1.6.5 in /opt/anaconda3/lib/python3.12/site-packages (from ipykernel->jupyterlab<4.1,>=4.0.2->notebook>=4.4.1->widgetsnbextension~=3.6.6->ipywidgets<9,>=7.6.0->ipyleaflet) (1.6.7)\n",
      "Requirement already satisfied: nest-asyncio in /opt/anaconda3/lib/python3.12/site-packages (from ipykernel->jupyterlab<4.1,>=4.0.2->notebook>=4.4.1->widgetsnbextension~=3.6.6->ipywidgets<9,>=7.6.0->ipyleaflet) (1.6.0)\n",
      "Requirement already satisfied: psutil in /opt/anaconda3/lib/python3.12/site-packages (from ipykernel->jupyterlab<4.1,>=4.0.2->notebook>=4.4.1->widgetsnbextension~=3.6.6->ipywidgets<9,>=7.6.0->ipyleaflet) (5.9.0)\n",
      "Requirement already satisfied: webencodings in /opt/anaconda3/lib/python3.12/site-packages (from bleach!=5.0.0->nbconvert>=6.4.4->jupyter-server<3,>=2.4.0->notebook>=4.4.1->widgetsnbextension~=3.6.6->ipywidgets<9,>=7.6.0->ipyleaflet) (0.5.1)\n",
      "Collecting fqdn (from jsonschema[format-nongpl]>=4.18.0->jupyter-events>=0.9.0->jupyter-server<3,>=2.4.0->notebook>=4.4.1->widgetsnbextension~=3.6.6->ipywidgets<9,>=7.6.0->ipyleaflet)\n",
      "  Downloading fqdn-1.5.1-py3-none-any.whl.metadata (1.4 kB)\n",
      "Collecting isoduration (from jsonschema[format-nongpl]>=4.18.0->jupyter-events>=0.9.0->jupyter-server<3,>=2.4.0->notebook>=4.4.1->widgetsnbextension~=3.6.6->ipywidgets<9,>=7.6.0->ipyleaflet)\n",
      "  Downloading isoduration-20.11.0-py3-none-any.whl.metadata (5.7 kB)\n",
      "Requirement already satisfied: jsonpointer>1.13 in /opt/anaconda3/lib/python3.12/site-packages (from jsonschema[format-nongpl]>=4.18.0->jupyter-events>=0.9.0->jupyter-server<3,>=2.4.0->notebook>=4.4.1->widgetsnbextension~=3.6.6->ipywidgets<9,>=7.6.0->ipyleaflet) (2.1)\n",
      "Collecting uri-template (from jsonschema[format-nongpl]>=4.18.0->jupyter-events>=0.9.0->jupyter-server<3,>=2.4.0->notebook>=4.4.1->widgetsnbextension~=3.6.6->ipywidgets<9,>=7.6.0->ipyleaflet)\n",
      "  Downloading uri_template-1.3.0-py3-none-any.whl.metadata (8.8 kB)\n",
      "Collecting webcolors>=1.11 (from jsonschema[format-nongpl]>=4.18.0->jupyter-events>=0.9.0->jupyter-server<3,>=2.4.0->notebook>=4.4.1->widgetsnbextension~=3.6.6->ipywidgets<9,>=7.6.0->ipyleaflet)\n",
      "  Downloading webcolors-24.8.0-py3-none-any.whl.metadata (2.6 kB)\n",
      "Requirement already satisfied: cffi>=1.0.1 in /opt/anaconda3/lib/python3.12/site-packages (from argon2-cffi-bindings->argon2-cffi>=21.1->jupyter-server<3,>=2.4.0->notebook>=4.4.1->widgetsnbextension~=3.6.6->ipywidgets<9,>=7.6.0->ipyleaflet) (1.16.0)\n",
      "Requirement already satisfied: soupsieve>1.2 in /opt/anaconda3/lib/python3.12/site-packages (from beautifulsoup4->nbconvert>=6.4.4->jupyter-server<3,>=2.4.0->notebook>=4.4.1->widgetsnbextension~=3.6.6->ipywidgets<9,>=7.6.0->ipyleaflet) (2.5)\n",
      "Requirement already satisfied: pycparser in /opt/anaconda3/lib/python3.12/site-packages (from cffi>=1.0.1->argon2-cffi-bindings->argon2-cffi>=21.1->jupyter-server<3,>=2.4.0->notebook>=4.4.1->widgetsnbextension~=3.6.6->ipywidgets<9,>=7.6.0->ipyleaflet) (2.21)\n",
      "Requirement already satisfied: arrow>=0.15.0 in /opt/anaconda3/lib/python3.12/site-packages (from isoduration->jsonschema[format-nongpl]>=4.18.0->jupyter-events>=0.9.0->jupyter-server<3,>=2.4.0->notebook>=4.4.1->widgetsnbextension~=3.6.6->ipywidgets<9,>=7.6.0->ipyleaflet) (1.2.3)\n",
      "Downloading ipyleaflet-0.19.2-py3-none-any.whl (31 kB)\n",
      "Downloading jupyter_leaflet-0.19.2-py3-none-any.whl (1.1 MB)\n",
      "\u001b[2K   \u001b[90m━━━━━━━━━━━━━━━━━━━━━━━━━━━━━━━━━━━━━━━━\u001b[0m \u001b[32m1.1/1.1 MB\u001b[0m \u001b[31m765.5 kB/s\u001b[0m eta \u001b[36m0:00:00\u001b[0m00:01\u001b[0m00:01\u001b[0m\n",
      "\u001b[?25hDownloading traittypes-0.2.1-py2.py3-none-any.whl (8.6 kB)\n",
      "Downloading webcolors-24.8.0-py3-none-any.whl (15 kB)\n",
      "Downloading fqdn-1.5.1-py3-none-any.whl (9.1 kB)\n",
      "Downloading isoduration-20.11.0-py3-none-any.whl (11 kB)\n",
      "Downloading uri_template-1.3.0-py3-none-any.whl (11 kB)\n",
      "Installing collected packages: webcolors, uri-template, traittypes, jupyter-leaflet, fqdn, isoduration, ipyleaflet\n",
      "Successfully installed fqdn-1.5.1 ipyleaflet-0.19.2 isoduration-20.11.0 jupyter-leaflet-0.19.2 traittypes-0.2.1 uri-template-1.3.0 webcolors-24.8.0\n",
      "Note: you may need to restart the kernel to use updated packages.\n"
     ]
    }
   ],
   "source": [
    "# pip install ipyleaflet"
   ]
  },
  {
   "cell_type": "markdown",
   "metadata": {},
   "source": [
    "# Import Libraries"
   ]
  },
  {
   "cell_type": "code",
   "execution_count": 53,
   "metadata": {},
   "outputs": [],
   "source": [
    "from ipyleaflet import Map, basemaps, basemap_to_tiles\n",
    "from ipyleaflet import LayersControl\n",
    "from ipyleaflet import MagnifyingGlass, Polyline\n",
    "from ipyleaflet import Marker, AwesomeIcon, DivIcon, SearchControl\n",
    "from ipyleaflet import Popup, AntPath, WMSLayer, GeomanDrawControl\n",
    "from ipyleaflet import FullScreenControl, MeasureControl, SplitMapControl\n",
    "from ipywidgets import HTML"
   ]
  },
  {
   "cell_type": "markdown",
   "metadata": {},
   "source": [
    "# Map & Basemap"
   ]
  },
  {
   "cell_type": "code",
   "execution_count": 24,
   "metadata": {},
   "outputs": [
    {
     "data": {
      "application/vnd.jupyter.widget-view+json": {
       "model_id": "8bd07c98aadf44f0b9627f6ee11a18e7",
       "version_major": 2,
       "version_minor": 0
      },
      "text/plain": [
       "Map(center=[52.204793, 360.121558], controls=(ZoomControl(options=['position', 'zoom_in_text', 'zoom_in_title'…"
      ]
     },
     "metadata": {},
     "output_type": "display_data"
    }
   ],
   "source": [
    "m = Map(\n",
    "    basemap=basemap_to_tiles(basemaps.NASAGIBS.ModisTerraTrueColorCR, \"2017-04-08\"),\n",
    "    center=(52.204793, 360.121558),\n",
    "    zoom=4\n",
    ")\n",
    "\n",
    "m"
   ]
  },
  {
   "cell_type": "code",
   "execution_count": 25,
   "metadata": {},
   "outputs": [
    {
     "data": {
      "application/vnd.jupyter.widget-view+json": {
       "model_id": "1ce1f37d008a43b8bda682a8ac9ef64a",
       "version_major": 2,
       "version_minor": 0
      },
      "text/plain": [
       "Map(center=[-2.548926, 118.0148634], controls=(ZoomControl(options=['position', 'zoom_in_text', 'zoom_in_title…"
      ]
     },
     "metadata": {},
     "output_type": "display_data"
    }
   ],
   "source": [
    "center = [-2.548926, 118.0148634]\n",
    "zoom = 5\n",
    "\n",
    "Map(basemap=basemaps.OpenStreetMap.Mapnik, center=center, zoom=zoom)"
   ]
  },
  {
   "cell_type": "markdown",
   "metadata": {},
   "source": [
    "# Tile Layer"
   ]
  },
  {
   "cell_type": "code",
   "execution_count": 65,
   "metadata": {},
   "outputs": [
    {
     "data": {
      "application/vnd.jupyter.widget-view+json": {
       "model_id": "7178dfbbad894a8282529e6c8cdba8ae",
       "version_major": 2,
       "version_minor": 0
      },
      "text/plain": [
       "Map(center=[-2.548926, 118.0148634], controls=(ZoomControl(options=['position', 'zoom_in_text', 'zoom_in_title…"
      ]
     },
     "metadata": {},
     "output_type": "display_data"
    }
   ],
   "source": [
    "m = Map(center=(-2.548926, 118.0148634), zoom=1)\n",
    "\n",
    "nasa_layer = basemap_to_tiles(basemaps.NASAGIBS.ModisTerraTrueColorCR, \"2018-04-08\")\n",
    "m.add(nasa_layer)\n",
    "\n",
    "m"
   ]
  },
  {
   "cell_type": "code",
   "execution_count": 67,
   "metadata": {},
   "outputs": [
    {
     "data": {
      "application/vnd.jupyter.widget-view+json": {
       "model_id": "8219456ea8924f5fad3de94b2ecb756e",
       "version_major": 2,
       "version_minor": 0
      },
      "text/plain": [
       "Map(center=[-2.548926, 118.0148634], controls=(ZoomControl(options=['position', 'zoom_in_text', 'zoom_in_title…"
      ]
     },
     "metadata": {},
     "output_type": "display_data"
    }
   ],
   "source": [
    "mapnik = basemap_to_tiles(basemaps.OpenStreetMap.Mapnik)\n",
    "mapnik.base = True\n",
    "\n",
    "ton = basemap_to_tiles(basemaps.Stamen.Terrain)\n",
    "ton.base = True\n",
    "\n",
    "m = Map(layers=[mapnik, ton], center=(-2.548926, 118.0148634), zoom=5)\n",
    "m.add_control(LayersControl())\n",
    "\n",
    "m"
   ]
  },
  {
   "cell_type": "markdown",
   "metadata": {},
   "source": [
    "# Magnifying Glass"
   ]
  },
  {
   "cell_type": "code",
   "execution_count": 68,
   "metadata": {},
   "outputs": [
    {
     "data": {
      "application/vnd.jupyter.widget-view+json": {
       "model_id": "dd6a189d920240b1b7782c9bd10bf5fa",
       "version_major": 2,
       "version_minor": 0
      },
      "text/plain": [
       "Map(center=[-2.548926, 118.0148634], controls=(ZoomControl(options=['position', 'zoom_in_text', 'zoom_in_title…"
      ]
     },
     "metadata": {},
     "output_type": "display_data"
    }
   ],
   "source": [
    "m = Map(center=(-2.548926, 118.0148634), zoom=2)\n",
    "\n",
    "topo_layer = basemap_to_tiles(basemaps.OpenTopoMap)\n",
    "magnifying_glass = MagnifyingGlass(layers=[topo_layer])\n",
    "\n",
    "m.add(magnifying_glass)\n",
    "\n",
    "m"
   ]
  },
  {
   "cell_type": "markdown",
   "metadata": {},
   "source": [
    "# Marker"
   ]
  },
  {
   "cell_type": "code",
   "execution_count": 29,
   "metadata": {},
   "outputs": [
    {
     "data": {
      "application/vnd.jupyter.widget-view+json": {
       "model_id": "f4f060f2045241eea14f2116a6f731e6",
       "version_major": 2,
       "version_minor": 0
      },
      "text/plain": [
       "Map(center=[52.204793, 360.121558], controls=(ZoomControl(options=['position', 'zoom_in_text', 'zoom_in_title'…"
      ]
     },
     "metadata": {},
     "output_type": "display_data"
    }
   ],
   "source": [
    "center = (52.204793, 360.121558)\n",
    "\n",
    "m = Map(center=center, zoom=15)\n",
    "\n",
    "marker = Marker(location=center, draggable=False)\n",
    "m.add(marker);\n",
    "\n",
    "m"
   ]
  },
  {
   "cell_type": "code",
   "execution_count": 30,
   "metadata": {},
   "outputs": [
    {
     "data": {
      "application/vnd.jupyter.widget-view+json": {
       "model_id": "9ec30388c323401c921b56ae682ce546",
       "version_major": 2,
       "version_minor": 0
      },
      "text/plain": [
       "Map(center=[-6.206466, 106.821849], controls=(ZoomControl(options=['position', 'zoom_in_text', 'zoom_in_title'…"
      ]
     },
     "metadata": {},
     "output_type": "display_data"
    }
   ],
   "source": [
    "m = Map(center=(-6.206466, 106.821849), zoom=15)\n",
    "\n",
    "icon1 = AwesomeIcon(\n",
    "    name='bus',\n",
    "    marker_color='red',\n",
    "    icon_color='black',\n",
    "    spin=False\n",
    ")\n",
    "\n",
    "icon2 = AwesomeIcon(\n",
    "    name='train',\n",
    "    marker_color='red',\n",
    "    icon_color='black',\n",
    "    spin=False\n",
    ")\n",
    "\n",
    "chillax_sudirman = Marker(icon=icon1, location=(-6.211068, 106.820912))\n",
    "m.add_layer(chillax_sudirman)\n",
    "\n",
    "setiabudi_astra = Marker(icon=icon2, location=(-6.208051, 106.821626))\n",
    "m.add_layer(setiabudi_astra)\n",
    "\n",
    "dukuh_atas = Marker(icon=icon2, location=(-6.200279, 106.823009))\n",
    "m.add_layer(dukuh_atas)\n",
    "\n",
    "m"
   ]
  },
  {
   "cell_type": "markdown",
   "metadata": {},
   "source": [
    "# DivIcon"
   ]
  },
  {
   "cell_type": "code",
   "execution_count": 31,
   "metadata": {},
   "outputs": [
    {
     "data": {
      "application/vnd.jupyter.widget-view+json": {
       "model_id": "497449eefaf74d0584ed7af85c410eff",
       "version_major": 2,
       "version_minor": 0
      },
      "text/plain": [
       "Map(center=[-6.200999, 106.816635], controls=(ZoomControl(options=['position', 'zoom_in_text', 'zoom_in_title'…"
      ]
     },
     "metadata": {},
     "output_type": "display_data"
    }
   ],
   "source": [
    "m = Map(center=[-6.200999, 106.816635], zoom=13)\n",
    "\n",
    "div_icon = DivIcon(html=\"<div style='color: purple; font-weight: bold;'>Hello!</div>\", bg_pos=[0, 0], icon_size=[50, 20])\n",
    "\n",
    "marker = Marker(location=[-6.200999, 106.816635], icon=div_icon)\n",
    "m.add_layer(marker)\n",
    "\n",
    "m"
   ]
  },
  {
   "cell_type": "markdown",
   "metadata": {},
   "source": [
    "# Pop Up"
   ]
  },
  {
   "cell_type": "code",
   "execution_count": 32,
   "metadata": {},
   "outputs": [
    {
     "data": {
      "application/vnd.jupyter.widget-view+json": {
       "model_id": "34b37dc86d904ca6b2934dd88299d2c8",
       "version_major": 2,
       "version_minor": 0
      },
      "text/plain": [
       "Map(center=[-6.206466, 106.821849], controls=(ZoomControl(options=['position', 'zoom_in_text', 'zoom_in_title'…"
      ]
     },
     "metadata": {},
     "output_type": "display_data"
    }
   ],
   "source": [
    "m = Map(center=(-6.206466, 106.821849), zoom=15)\n",
    "\n",
    "icon1 = AwesomeIcon(\n",
    "    name='bus',\n",
    "    marker_color='red',\n",
    "    icon_color='black',\n",
    "    spin=False\n",
    ")\n",
    "\n",
    "icon2 = AwesomeIcon(\n",
    "    name='train',\n",
    "    marker_color='red',\n",
    "    icon_color='black',\n",
    "    spin=False\n",
    ")\n",
    "\n",
    "setiabudi_astra = Marker(icon=icon2, location=(-6.208051, 106.821626))\n",
    "popup_setiabudi = Popup(\n",
    "    location=(-6.208051, 106.821626),\n",
    "    child=HTML('<b>Stasiun Setiabudi Astra</b>'),\n",
    "    close_button=True,\n",
    "    auto_close=False\n",
    ")\n",
    "setiabudi_astra.popup = popup_setiabudi\n",
    "m.add_layer(setiabudi_astra)\n",
    "\n",
    "dukuh_atas = Marker(icon=icon2, location=(-6.200279, 106.823009))\n",
    "popup_dukuh = Popup(\n",
    "    location=(-6.200279, 106.823009),\n",
    "    child=HTML('<b>Stasiun Dukuh Atas</b>'),\n",
    "    close_button=True,\n",
    "    auto_close=False\n",
    ")\n",
    "dukuh_atas.popup = popup_dukuh\n",
    "m.add_layer(dukuh_atas)\n",
    "\n",
    "chillax_sudirman = Marker(icon=icon1, location=(-6.211068, 106.820912))\n",
    "popup_chillax = Popup(\n",
    "    location=(-6.211068, 106.820912),\n",
    "    child=HTML('<b>Perhentian Bus Chillax Sudirman</b>'),\n",
    "    close_button=True,\n",
    "    auto_close=False\n",
    ")\n",
    "chillax_sudirman.popup = popup_chillax\n",
    "m.add_layer(chillax_sudirman)\n",
    "\n",
    "m"
   ]
  },
  {
   "cell_type": "code",
   "execution_count": 33,
   "metadata": {},
   "outputs": [
    {
     "data": {
      "application/vnd.jupyter.widget-view+json": {
       "model_id": "803ef9faa45f4e6d88dc159c9da599f8",
       "version_major": 2,
       "version_minor": 0
      },
      "text/plain": [
       "Map(center=[45.0, 10.0], controls=(ZoomControl(options=['position', 'zoom_in_text', 'zoom_in_title', 'zoom_out…"
      ]
     },
     "metadata": {},
     "output_type": "display_data"
    }
   ],
   "source": [
    "# Membuat peta dengan pusat tertentu dan zoom level\n",
    "m = Map(center=(45.0, 10.0), zoom=4)\n",
    "\n",
    "# Membuat WMS Layer\n",
    "wms = WMSLayer(\n",
    "    url='https://ows.terrestris.de/osm/service',\n",
    "    layers='OSM-WMS',\n",
    "    format='image/png',\n",
    "    transparent=True,\n",
    "    attribution='© OpenStreetMap contributors'\n",
    ")\n",
    "\n",
    "# Menambahkan WMS Layer ke peta\n",
    "m.add_layer(wms)\n",
    "\n",
    "# Menampilkan peta\n",
    "m\n"
   ]
  },
  {
   "cell_type": "markdown",
   "metadata": {},
   "source": [
    "# Ant Path"
   ]
  },
  {
   "cell_type": "code",
   "execution_count": 71,
   "metadata": {},
   "outputs": [
    {
     "data": {
      "application/vnd.jupyter.widget-view+json": {
       "model_id": "7673ea458dc043af88ebd29a78f6ce71",
       "version_major": 2,
       "version_minor": 0
      },
      "text/plain": [
       "Map(center=[51.332, 6.853], controls=(ZoomControl(options=['position', 'zoom_in_text', 'zoom_in_title', 'zoom_…"
      ]
     },
     "metadata": {},
     "output_type": "display_data"
    }
   ],
   "source": [
    "m = Map(center=(51.332, 6.853), zoom=10)\n",
    "\n",
    "ant_path = AntPath(\n",
    "    locations=[\n",
    "        [51.185, 6.773], [51.182, 6.752], [51.185, 6.733], [51.194, 6.729],\n",
    "        [51.205, 6.732], [51.219, 6.723], [51.224, 6.723], [51.227, 6.728],\n",
    "        [51.228, 6.734], [51.226, 6.742], [51.221, 6.752], [51.221, 6.758],\n",
    "        [51.224, 6.765], [51.230, 6.768], [51.239, 6.765], [51.246, 6.758],\n",
    "        [51.252, 6.745], [51.257, 6.724], [51.262, 6.711], [51.271, 6.701],\n",
    "        [51.276, 6.702], [51.283, 6.710], [51.297, 6.725], [51.304, 6.732],\n",
    "        [51.312, 6.735], [51.320, 6.734], [51.326, 6.726], [51.334, 6.713],\n",
    "        [51.340, 6.696], [51.344, 6.678], [51.349, 6.662], [51.354, 6.655],\n",
    "        [51.360, 6.655], [51.366, 6.662], [51.369, 6.675], [51.373, 6.704],\n",
    "        [51.376, 6.715], [51.385, 6.732], [51.394, 6.741], [51.402, 6.743],\n",
    "        [51.411, 6.742], [51.420, 6.733], [51.429, 6.718], [51.439, 6.711],\n",
    "        [51.448, 6.716], [51.456, 6.724], [51.466, 6.719], [51.469, 6.713],\n",
    "        [51.470, 6.701], [51.473, 6.686], [51.479, 6.680], [51.484, 6.680],\n",
    "        [51.489, 6.685], [51.493, 6.700], [51.497, 6.714]\n",
    "    ],\n",
    "    dash_array=[1, 10],\n",
    "    delay=1000,\n",
    "    color='darkblue',\n",
    "    pulse_color='blue'\n",
    ")\n",
    "\n",
    "m.add(ant_path)\n",
    "\n",
    "m"
   ]
  },
  {
   "cell_type": "code",
   "execution_count": 79,
   "metadata": {},
   "outputs": [
    {
     "data": {
      "application/vnd.jupyter.widget-view+json": {
       "model_id": "849a7263528047ffb5d8d7403cfd4e55",
       "version_major": 2,
       "version_minor": 0
      },
      "text/plain": [
       "Map(center=[-6.214774, 106.818014], controls=(ZoomControl(options=['position', 'zoom_in_text', 'zoom_in_title'…"
      ]
     },
     "metadata": {},
     "output_type": "display_data"
    }
   ],
   "source": [
    "m = Map(center = (-6.214774, 106.818014), zoom=15)\n",
    "\n",
    "lines = Polyline(\n",
    "    locations=[\n",
    "        [[-6.215003, 106.817978],\n",
    "         [-6.208051, 106.821626]],\n",
    "        [[-6.213296, 106.817936],\n",
    "         [-6.211844, 106.817672],\n",
    "         [-6.209339, 106.817760]]],\n",
    "    color=\"blue\" ,\n",
    "    fill=False)\n",
    "icon1 = AwesomeIcon(\n",
    "    name='bus',\n",
    "    marker_color='red',\n",
    "    icon_color='black',\n",
    "    spin=False)\n",
    "icon2 = AwesomeIcon(\n",
    "    name='train',\n",
    "    marker_color='red',\n",
    "    icon_color='black',\n",
    "    spin=False)\n",
    "\n",
    "setiabudi_astra = Marker(icon=icon2, location=(-6.208051, 106.821626))\n",
    "m.add_layer(setiabudi_astra)\n",
    "\n",
    "bendungan_hilir = Marker(icon=icon2, location=(-6.214646, 106.817957))\n",
    "m.add_layer(bendungan_hilir)\n",
    "\n",
    "anz_tower = Marker(icon=icon1, location=(-6.213221, 106.817957))\n",
    "m.add_layer(anz_tower)\n",
    "\n",
    "karet = Marker(icon=icon1, location=(-6.211844, 106.817672))\n",
    "m.add_layer(karet)\n",
    "\n",
    "city_walk = Marker(icon=icon1, location=(-6.209339, 106.817760))\n",
    "m.add_layer(city_walk)\n",
    "\n",
    "m.add(lines)\n",
    "m"
   ]
  },
  {
   "cell_type": "markdown",
   "metadata": {},
   "source": [
    "# Choropleth"
   ]
  },
  {
   "cell_type": "code",
   "execution_count": 81,
   "metadata": {},
   "outputs": [
    {
     "data": {
      "application/vnd.jupyter.widget-view+json": {
       "model_id": "2aeea5a6167d4082a74fef5d7a214878",
       "version_major": 2,
       "version_minor": 0
      },
      "text/plain": [
       "Map(center=[43, -100], controls=(ZoomControl(options=['position', 'zoom_in_text', 'zoom_in_title', 'zoom_out_t…"
      ]
     },
     "metadata": {},
     "output_type": "display_data"
    }
   ],
   "source": [
    "import ipyleaflet\n",
    "import json\n",
    "import pandas as pd\n",
    "import os\n",
    "import requests\n",
    "from branca.colormap import linear\n",
    "\n",
    "def load_data(url, filename, file_type):\n",
    "    r = requests.get(url)\n",
    "    with open(filename, 'w') as f:\n",
    "        f.write(r.content.decode(\"utf-8\"))\n",
    "    with open(filename, 'r') as f:\n",
    "        return file_type(f)\n",
    "\n",
    "geo_json_data = load_data(\n",
    "    'https://raw.githubusercontent.com/jupyter-widgets/ipyleaflet/master/examples/us-states.json',\n",
    "    'us-states.json',\n",
    "     json.load)\n",
    "\n",
    "unemployment = load_data(\n",
    "    'https://raw.githubusercontent.com/jupyter-widgets/ipyleaflet/master/examples/US_Unemployment_Oct2012.csv',\n",
    "    'US_Unemployment_Oct2012.csv',\n",
    "     pd.read_csv)\n",
    "\n",
    "unemployment =  dict(zip(unemployment['State'].tolist(), unemployment['Unemployment'].tolist()))\n",
    "\n",
    "layer = ipyleaflet.Choropleth(\n",
    "    geo_data=geo_json_data,\n",
    "    choro_data=unemployment,\n",
    "    colormap=linear.PuRd_09,\n",
    "    border_color='black',\n",
    "    style={'fillOpacity': 0.8, 'dashArray': '5, 5'})\n",
    "\n",
    "m = ipyleaflet.Map(center = (43,-100), zoom = 4)\n",
    "m.add(layer)\n",
    "m"
   ]
  },
  {
   "cell_type": "markdown",
   "metadata": {},
   "source": [
    "# WKT Layer"
   ]
  },
  {
   "cell_type": "code",
   "execution_count": 37,
   "metadata": {},
   "outputs": [
    {
     "data": {
      "application/vnd.jupyter.widget-view+json": {
       "model_id": "2d6453aa7f8244ce9d0ad9f9c767cdca",
       "version_major": 2,
       "version_minor": 0
      },
      "text/plain": [
       "Map(center=[42.3152960829043, -71.1031627617667], controls=(ZoomControl(options=['position', 'zoom_in_text', '…"
      ]
     },
     "metadata": {},
     "output_type": "display_data"
    }
   ],
   "source": [
    "from ipyleaflet import Map, WKTLayer\n",
    "\n",
    "if not os.path.exists(\"test.wkt\"):\n",
    "    url = \"https://github.com/jupyter-widgets/ipyleaflet/raw/master/examples/data/test.wkt\"\n",
    "    r = requests.get(url)\n",
    "    with open(\"test.wkt\", \"w\") as f:\n",
    "        f.write(r.content.decode(\"utf-8\"))\n",
    "\n",
    "m = Map(center=(42.3152960829043, -71.1031627617667), zoom=17)\n",
    "wlayer = WKTLayer(path=\"test.wkt\", hover_style={\"fillColor\": \"red\"})\n",
    "m.add(wlayer)\n",
    "\n",
    "m"
   ]
  },
  {
   "cell_type": "markdown",
   "metadata": {},
   "source": [
    "# Full Screen"
   ]
  },
  {
   "cell_type": "code",
   "execution_count": 82,
   "metadata": {},
   "outputs": [
    {
     "data": {
      "application/vnd.jupyter.widget-view+json": {
       "model_id": "f60b6a8e22b2479a8689c5405d1574a0",
       "version_major": 2,
       "version_minor": 0
      },
      "text/plain": [
       "Map(center=[-6.206466, 106.821849], controls=(ZoomControl(options=['position', 'zoom_in_text', 'zoom_in_title'…"
      ]
     },
     "metadata": {},
     "output_type": "display_data"
    }
   ],
   "source": [
    "m = Map(center=(-6.206466, 106.821849), zoom=15)\n",
    "\n",
    "lines = Polyline(\n",
    "    locations=[\n",
    "        [[-6.215003, 106.817978],\n",
    "         [-6.208051, 106.821626]],\n",
    "        [[-6.213296, 106.817936],\n",
    "         [-6.211844, 106.817672],\n",
    "         [-6.209339, 106.817760]]],\n",
    "    color=\"blue\" ,\n",
    "    fill=False)\n",
    "icon1 = AwesomeIcon(\n",
    "    name='bus',\n",
    "    marker_color='red',\n",
    "    icon_color='black',\n",
    "    spin=False)\n",
    "icon2 = AwesomeIcon(\n",
    "    name='train',\n",
    "    marker_color='red',\n",
    "    icon_color='black',\n",
    "    spin=False)\n",
    "\n",
    "setiabudi_astra = Marker(icon=icon2, location=(-6.208051, 106.821626))\n",
    "m.add_layer(setiabudi_astra)\n",
    "\n",
    "bendungan_hilir = Marker(icon=icon2, location=(-6.214646, 106.817957))\n",
    "m.add_layer(bendungan_hilir)\n",
    "\n",
    "anz_tower = Marker(icon=icon1, location=(-6.213221, 106.817957))\n",
    "m.add_layer(anz_tower)\n",
    "\n",
    "karet = Marker(icon=icon1, location=(-6.211844, 106.817672))\n",
    "m.add_layer(karet)\n",
    "\n",
    "city_walk = Marker(icon=icon1, location=(-6.209339, 106.817760))\n",
    "m.add_layer(city_walk)\n",
    "\n",
    "m.add(lines)\n",
    "m.add(FullScreenControl())\n",
    "\n",
    "m"
   ]
  },
  {
   "cell_type": "markdown",
   "metadata": {},
   "source": [
    "# Measure Control"
   ]
  },
  {
   "cell_type": "code",
   "execution_count": 87,
   "metadata": {},
   "outputs": [
    {
     "data": {
      "application/vnd.jupyter.widget-view+json": {
       "model_id": "9d67ae97fd9944229a6f3fa945cfcc09",
       "version_major": 2,
       "version_minor": 0
      },
      "text/plain": [
       "Map(center=[-6.206466, 106.821849], controls=(ZoomControl(options=['position', 'zoom_in_text', 'zoom_in_title'…"
      ]
     },
     "metadata": {},
     "output_type": "display_data"
    }
   ],
   "source": [
    "m = Map(center=(-6.206466, 106.821849), zoom=15)\n",
    "\n",
    "measure = MeasureControl(\n",
    "    primary_length_unit='kilometers',  \n",
    "    secondary_length_unit='miles',   \n",
    "    primary_area_unit='sqmeters',     \n",
    "    secondary_area_unit='acres',\n",
    "    color = \"blue\")\n",
    "\n",
    "m.add_control(measure)\n",
    "m"
   ]
  },
  {
   "cell_type": "markdown",
   "metadata": {},
   "source": [
    "# Split Map Control"
   ]
  },
  {
   "cell_type": "code",
   "execution_count": 48,
   "metadata": {},
   "outputs": [
    {
     "data": {
      "application/vnd.jupyter.widget-view+json": {
       "model_id": "d81cf79cfe5f49ccb852f8c62ae58795",
       "version_major": 2,
       "version_minor": 0
      },
      "text/plain": [
       "Map(center=[42.6824, 365.581], controls=(ZoomControl(options=['position', 'zoom_in_text', 'zoom_in_title', 'zo…"
      ]
     },
     "metadata": {},
     "output_type": "display_data"
    }
   ],
   "source": [
    "m = Map(center=(42.6824, 365.581), zoom=5)\n",
    "\n",
    "right_layer = basemap_to_tiles(basemaps.NASAGIBS.ModisTerraTrueColorCR, \"2017-11-11\")\n",
    "left_layer = basemap_to_tiles(basemaps.NASAGIBS.ModisAquaBands721CR, \"2017-11-11\")\n",
    "\n",
    "control = SplitMapControl(left_layer=left_layer, right_layer=right_layer)\n",
    "m.add(control)\n",
    "\n",
    "m"
   ]
  },
  {
   "cell_type": "markdown",
   "metadata": {},
   "source": [
    "# Draw Control (Geoman)"
   ]
  },
  {
   "cell_type": "code",
   "execution_count": 52,
   "metadata": {},
   "outputs": [
    {
     "data": {
      "application/vnd.jupyter.widget-view+json": {
       "model_id": "4ecfe3fdd61342d1860d29559eb0c782",
       "version_major": 2,
       "version_minor": 0
      },
      "text/plain": [
       "Map(center=[-6.206466, 106.821849], controls=(ZoomControl(options=['position', 'zoom_in_text', 'zoom_in_title'…"
      ]
     },
     "metadata": {},
     "output_type": "display_data"
    }
   ],
   "source": [
    "m = Map(center=(-6.206466, 106.821849), zoom=15)\n",
    "\n",
    "icon1 = AwesomeIcon(name='bus',\n",
    "                    marker_color='red',\n",
    "                    icon_color='black',\n",
    "                    spin=False)\n",
    "\n",
    "icon2 = AwesomeIcon(name='train',\n",
    "                    marker_color='red',\n",
    "                    icon_color='black',\n",
    "                    spin=False)\n",
    "\n",
    "setiabudi_astra = Marker(icon=icon2, location=(-6.208051, 106.821626))\n",
    "m.add_layer(setiabudi_astra)\n",
    "\n",
    "dukuh_atas = Marker(icon=icon2, location=(-6.200279, 106.823009))\n",
    "m.add_layer(dukuh_atas)\n",
    "\n",
    "chillax_sudirman = Marker(icon=icon1, location=(-6.211068, 106.820912))\n",
    "m.add_layer(chillax_sudirman)\n",
    "\n",
    "draw_control = GeomanDrawControl()\n",
    "draw_control.polyline =  {\"pathOptions\": {\"color\": \"#6bc2e5\",\n",
    "                                          \"weight\": 8,\n",
    "                                          \"opacity\": 1.0}}\n",
    "\n",
    "draw_control.polygon = {\"pathOptions\": {\"fillColor\": \"#6be5c3\",\n",
    "                                        \"color\": \"#6be5c3\",\n",
    "                                        \"fillOpacity\": 1.0}}\n",
    "\n",
    "draw_control.circlemarker = {\"pathOptions\": {\"fillColor\": \"#efed69\",\n",
    "                                             \"color\": \"#efed69\",\n",
    "                                             \"fillOpacity\": 0.62}}\n",
    "\n",
    "draw_control.rectangle = {\"pathOptions\": {\"fillColor\": \"#fca45d\",\n",
    "                                          \"color\": \"#fca45d\",\n",
    "                                          \"fillOpacity\": 1.0}}\n",
    "\n",
    "m.add(draw_control)\n",
    "m"
   ]
  },
  {
   "cell_type": "code",
   "execution_count": 57,
   "metadata": {},
   "outputs": [
    {
     "data": {
      "application/vnd.jupyter.widget-view+json": {
       "model_id": "972581fa72c64c4f84bbb58824bdf4ad",
       "version_major": 2,
       "version_minor": 0
      },
      "text/plain": [
       "Map(center=[-6.206466, 106.821849], controls=(ZoomControl(options=['position', 'zoom_in_text', 'zoom_in_title'…"
      ]
     },
     "metadata": {},
     "output_type": "display_data"
    }
   ],
   "source": [
    "m = Map(zoom=10, center=[-6.206466, 106.821849])\n",
    "\n",
    "marker = Marker(icon=AwesomeIcon(name=\"check\", marker_color='green', icon_color='darkgreen'))\n",
    "\n",
    "m.add(SearchControl(\n",
    "  position=\"topleft\",\n",
    "  url='https://nominatim.openstreetmap.org/search?format=json&q={s}',\n",
    "  zoom=5,\n",
    "  marker=marker))\n",
    "\n",
    "m"
   ]
  },
  {
   "cell_type": "code",
   "execution_count": 91,
   "metadata": {},
   "outputs": [
    {
     "data": {
      "application/vnd.jupyter.widget-view+json": {
       "model_id": "d6015caf8c4b423482c4f35ecab55f60",
       "version_major": 2,
       "version_minor": 0
      },
      "text/plain": [
       "Map(center=[-6.206466, 106.821849], controls=(ZoomControl(options=['position', 'zoom_in_text', 'zoom_in_title'…"
      ]
     },
     "metadata": {},
     "output_type": "display_data"
    }
   ],
   "source": [
    "osm_layer = basemap_to_tiles(basemaps.OpenStreetMap.Mapnik) \n",
    "satellite_layer = basemap_to_tiles(basemaps.Esri.WorldImagery)\n",
    "\n",
    "m = Map(center=(-6.206466, 106.821849), zoom=15, layers=(osm_layer,))\n",
    "\n",
    "m.add_layer(satellite_layer)\n",
    "\n",
    "layers_control = LayersControl(position='topright')\n",
    "m.add_control(layers_control)\n",
    "\n",
    "m"
   ]
  }
 ],
 "metadata": {
  "kernelspec": {
   "display_name": "base",
   "language": "python",
   "name": "python3"
  },
  "language_info": {
   "codemirror_mode": {
    "name": "ipython",
    "version": 3
   },
   "file_extension": ".py",
   "mimetype": "text/x-python",
   "name": "python",
   "nbconvert_exporter": "python",
   "pygments_lexer": "ipython3",
   "version": "3.12.4"
  }
 },
 "nbformat": 4,
 "nbformat_minor": 2
}
